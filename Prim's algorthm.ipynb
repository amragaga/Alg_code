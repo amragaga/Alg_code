{
 "cells": [
  {
   "cell_type": "code",
   "execution_count": 5,
   "id": "c517c946-b107-4473-980f-cef968035dfe",
   "metadata": {},
   "outputs": [],
   "source": [
    "import heapq"
   ]
  },
  {
   "cell_type": "code",
   "execution_count": 6,
   "id": "889a0adc-b5ce-442d-b140-4f34eed0328d",
   "metadata": {},
   "outputs": [],
   "source": [
    "\n",
    "def prim(graph, start_vertex):\n",
    "    \n",
    "    V = len(graph)  \n",
    "    visited = [False] * V  \n",
    "    min_heap = []  \n",
    "    mst_edges = []\n",
    "    \n",
    "    def add_edges(vertex):\n",
    "        visited[vertex] = True\n",
    "        for neighbor, weight in graph[vertex]:\n",
    "            if not visited[neighbor]:\n",
    "                heapq.heappush(min_heap, (weight, vertex, neighbor))\n",
    "    \n",
    "    add_edges(start_vertex)\n",
    "    \n",
    "    while min_heap:\n",
    "        weight, u, v = heapq.heappop(min_heap) \n",
    "        \n",
    "        if visited[v]:\n",
    "            continue\n",
    "        \n",
    "        mst_edges.append((u, v, weight))\n",
    "        add_edges(v)\n",
    "    \n",
    "    return mst_edges"
   ]
  },
  {
   "cell_type": "code",
   "execution_count": 7,
   "id": "f609d60a-564a-416b-b049-810f73060c75",
   "metadata": {},
   "outputs": [],
   "source": [
    "graph = {\n",
    "    0: [(1, 2), (3, 6)], \n",
    "    1: [(0, 2), (2, 3), (3, 8)], \n",
    "    2: [(1, 3), (3, 5)],  \n",
    "    3: [(0, 6), (1, 8), (2, 5)]  \n",
    "}"
   ]
  },
  {
   "cell_type": "code",
   "execution_count": 8,
   "id": "5f8fd716-a0bd-47fa-ba33-a3b4c742234d",
   "metadata": {},
   "outputs": [
    {
     "name": "stdout",
     "output_type": "stream",
     "text": [
      "edges in the mst is: [(0, 1, 2), (1, 2, 3), (2, 3, 5)]\n"
     ]
    }
   ],
   "source": [
    "mst = prim(graph, 0)\n",
    "print(\"edges in the mst is:\", mst)"
   ]
  },
  {
   "cell_type": "code",
   "execution_count": null,
   "id": "861060fa-a373-4961-b3dc-bd25192c6930",
   "metadata": {},
   "outputs": [],
   "source": []
  },
  {
   "cell_type": "code",
   "execution_count": null,
   "id": "33bd7655-c198-4211-a3f6-54718a4f6abb",
   "metadata": {},
   "outputs": [],
   "source": []
  }
 ],
 "metadata": {
  "kernelspec": {
   "display_name": "Python 3 (ipykernel)",
   "language": "python",
   "name": "python3"
  },
  "language_info": {
   "codemirror_mode": {
    "name": "ipython",
    "version": 3
   },
   "file_extension": ".py",
   "mimetype": "text/x-python",
   "name": "python",
   "nbconvert_exporter": "python",
   "pygments_lexer": "ipython3",
   "version": "3.11.7"
  }
 },
 "nbformat": 4,
 "nbformat_minor": 5
}
