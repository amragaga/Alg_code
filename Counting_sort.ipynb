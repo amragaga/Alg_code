{
 "cells": [
  {
   "cell_type": "code",
   "execution_count": 6,
   "id": "5d86fc07-a06d-40b2-8e13-fd212ee1fc37",
   "metadata": {},
   "outputs": [],
   "source": [
    "def counting_sort(arr):\n",
    "    if not arr:\n",
    "        return []\n",
    "\n",
    "    max_val = max(arr)\n",
    "\n",
    "    count = [0] * (max_val + 1)\n",
    "\n",
    "    for num in arr:\n",
    "        count[num] += 1\n",
    "\n",
    "    for i in range(1, len(count)):\n",
    "        count[i] += count[i - 1]\n",
    "\n",
    "    output = [0] * len(arr)\n",
    "    for num in reversed(arr):\n",
    "        output[count[num] - 1] = num\n",
    "        count[num] -= 1\n",
    "\n",
    "    for i in range(len(arr)):\n",
    "        arr[i] = output[i]\n",
    "\n",
    "    return arr\n"
   ]
  },
  {
   "cell_type": "code",
   "execution_count": 7,
   "id": "3aab6675-98ed-4cd1-bc4f-edf21deffabf",
   "metadata": {},
   "outputs": [
    {
     "name": "stdout",
     "output_type": "stream",
     "text": [
      "[1, 2, 2, 3, 3, 4, 8]\n"
     ]
    }
   ],
   "source": [
    "arr = [4, 2, 2, 8, 3, 3, 1]\n",
    "sorted_arry = counting_sort(arr)\n",
    "print(sorted_arry)"
   ]
  },
  {
   "cell_type": "code",
   "execution_count": null,
   "id": "a728d0c6-248f-4b65-89ec-9b650a0a2043",
   "metadata": {},
   "outputs": [],
   "source": []
  }
 ],
 "metadata": {
  "kernelspec": {
   "display_name": "Python 3 (ipykernel)",
   "language": "python",
   "name": "python3"
  },
  "language_info": {
   "codemirror_mode": {
    "name": "ipython",
    "version": 3
   },
   "file_extension": ".py",
   "mimetype": "text/x-python",
   "name": "python",
   "nbconvert_exporter": "python",
   "pygments_lexer": "ipython3",
   "version": "3.11.7"
  }
 },
 "nbformat": 4,
 "nbformat_minor": 5
}
